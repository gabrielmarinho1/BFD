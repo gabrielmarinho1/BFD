{
 "cells": [
  {
   "cell_type": "markdown",
   "id": "d4d6cd95",
   "metadata": {},
   "source": [
    "## Crie um catálogo interativo de filmes por gênero usando dicionário com listas, onde poderá adicionar, remover, consultar e exibir filmes"
   ]
  },
  {
   "cell_type": "markdown",
   "id": "6efd5c11",
   "metadata": {},
   "source": [
    "### O programa deve:\n",
    "\n",
    "1. Criar e exibir gêneros e filmes;\n",
    "2. Adicionar novos filmes a gêneros existente ou criar novos gêneros;\n",
    "3. Remover filmes;\n",
    "4. Consultar filmes por gênero ou exibir tudo;\n",
    "5. Interface interativa via terminal."
   ]
  },
  {
   "cell_type": "markdown",
   "id": "bd9d9d30",
   "metadata": {},
   "source": [
    "## Código"
   ]
  },
  {
   "cell_type": "markdown",
   "id": "0d47341c",
   "metadata": {},
   "source": [
    "### criando o dicionário"
   ]
  },
  {
   "cell_type": "code",
   "execution_count": 72,
   "id": "d782650f",
   "metadata": {},
   "outputs": [],
   "source": [
    "catalogo = {\n",
    "    \"Ação\": [\n",
    "        [\"Duro de Matar\", 1988],\n",
    "        [\"Mad Max: Estrada da Fúria\", 2015],\n",
    "        [\"John Wick\", 2014],\n",
    "        [\"Gladiador\", 2000],\n",
    "        [\"Velozes e Furiosos\", 2001]\n",
    "    ],\n",
    "    \"Comédia\": [\n",
    "        [\"Se Beber, Não Case!\", 2009],\n",
    "        [\"O Máskara\", 1994],\n",
    "        [\"As Branquelas\", 2004],\n",
    "        [\"Superbad\", 2007],\n",
    "        [\"Click\", 2006]\n",
    "    ],\n",
    "    \"Drama\": [\n",
    "        [\"Forrest Gump\", 1994],\n",
    "        [\"O Poderoso Chefão\", 1972],\n",
    "        [\"Clube da Luta\", 1999],\n",
    "        [\"A Espera de um Milagre\", 1999],\n",
    "        [\"Um Sonho de Liberdade\", 1994]\n",
    "    ],\n",
    "    \"Ficção Científica\": [\n",
    "        [\"Interestelar\", 2014],\n",
    "        [\"Matrix\", 1999],\n",
    "        [\"Blade Runner\", 1982],\n",
    "        [\"De Volta para o Futuro\", 1985],\n",
    "        [\"A Origem\", 2010]\n",
    "    ],\n",
    "    \"Terror\": [\n",
    "        [\"O Iluminado\", 1980],\n",
    "        [\"Invocação do Mal\", 2013],\n",
    "        [\"It: A Coisa\", 2017],\n",
    "        [\"Atividade Paranormal\", 2007],\n",
    "        [\"Pânico\", 1996]\n",
    "    ],\n",
    "    \"Animação\": [\n",
    "        [\"Toy Story\", 1995],\n",
    "        [\"Shrek\", 2001],\n",
    "        [\"Procurando Nemo\", 2003],\n",
    "        [\"O Rei Leão\", 1994],\n",
    "        [\"Divertida Mente\", 2015]\n",
    "    ],\n",
    "    \"Romance\": [\n",
    "        [\"Titanic\", 1997],\n",
    "        [\"Diário de uma Paixão\", 2004],\n",
    "        [\"La La Land\", 2016],\n",
    "        [\"Como Eu Era Antes de Você\", 2016],\n",
    "        [\"Orgulho e Preconceito\", 2005]\n",
    "    ]\n",
    "}"
   ]
  },
  {
   "cell_type": "markdown",
   "id": "adc7407b",
   "metadata": {},
   "source": [
    "### criando a função de adicionar filmes/gêneros"
   ]
  },
  {
   "cell_type": "code",
   "execution_count": 73,
   "id": "813607d2",
   "metadata": {},
   "outputs": [],
   "source": [
    "def adicionar_filme(catalogo):\n",
    "\n",
    "    while True:\n",
    "        try:\n",
    "            genero = input(\"Digite o gênero do filme: \").title()\n",
    "            titulo = input(\"Digite o título do filme: \").title()\n",
    "            ano = int(input(\"Digite o ano de lançamento do filme: \"))\n",
    "            \n",
    "            if genero in catalogo:\n",
    "                catalogo[genero].append([titulo, ano])\n",
    "            else:\n",
    "                catalogo[genero] = [[titulo, ano]]\n",
    "            print(f'Filme \"{titulo}\" adicionado ao gênero \"{genero}\".')\n",
    "            break\n",
    "        \n",
    "        except ValueError:\n",
    "            print(\"Inválido. Tente novamente.\")"
   ]
  },
  {
   "cell_type": "markdown",
   "id": "f25a6c21",
   "metadata": {},
   "source": [
    "### criando a função que mostra o catálogo"
   ]
  },
  {
   "cell_type": "code",
   "execution_count": 74,
   "id": "5ee81f5a",
   "metadata": {},
   "outputs": [],
   "source": [
    "def mostrar_catalogo(catalogo, modo):\n",
    "    if modo == \"gênero\":\n",
    "        print('======= GÊNEROS =======')\n",
    "        for genero in catalogo:\n",
    "            print(f'\\n======= {genero.title()} =======\\n')\n",
    "\n",
    "            for filme, ano in catalogo[genero]:\n",
    "                print(f'{filme} {(30 - len(filme)) * ' '} {ano}')\n",
    "    \n",
    "    elif modo == \"filme\":\n",
    "\n",
    "        ordenado = []\n",
    "        print('======= FILMES =======')\n",
    "        for genero, filmes in catalogo.items():\n",
    "            for filme in filmes:\n",
    "                ordenado.append((filme[0], filme[1]))\n",
    "        \n",
    "        ordenado = sorted(ordenado, key=lambda x: x[0])\n",
    "        for filme, ano in ordenado:\n",
    "            print(f'{filme} {(30 - len(filme)) * ' '} {ano}')"
   ]
  },
  {
   "cell_type": "markdown",
   "id": "ee3d8fb6",
   "metadata": {},
   "source": [
    "### criando a função de remover filmes do catálogo"
   ]
  },
  {
   "cell_type": "code",
   "execution_count": 75,
   "id": "0d903701",
   "metadata": {},
   "outputs": [],
   "source": [
    "def remover_filme(catalogo):\n",
    "\n",
    "    try:\n",
    "        mostrar_catalogo(catalogo, \"gênero\")\n",
    "        genero = input('De qual gênero deseja remover o filme? ').capitalize()\n",
    "        if genero not in catalogo:\n",
    "            print(\"Gênero não encontrado.\")\n",
    "            return\n",
    "        filmes = catalogo[genero]\n",
    "        if not filmes:\n",
    "            print(\"Não há filmes nesse gênero.\")\n",
    "            return\n",
    "        print(f'\\n======= {genero} =======\\n')\n",
    "        for filme, ano in filmes:\n",
    "            print(f'{filme} {(30 - len(filme)) * \" \"} {ano}')\n",
    "        escolha = input('Qual filme deseja remover? ').lower()\n",
    "        for filme in filmes:\n",
    "            if escolha == filme[0].lower():\n",
    "                filmes.remove(filme)\n",
    "                print(f'Filme \"{escolha}\" removido do gênero \"{genero}\".')\n",
    "                return\n",
    "        print(\"Filme não encontrado.\")\n",
    "    except ValueError:\n",
    "        print(\"Inválido. Tente novamente.\")"
   ]
  },
  {
   "cell_type": "markdown",
   "id": "a953383a",
   "metadata": {},
   "source": [
    "### criando a função que busca os filmes"
   ]
  },
  {
   "cell_type": "code",
   "execution_count": 76,
   "id": "aeb5284e",
   "metadata": {},
   "outputs": [],
   "source": [
    "def buscar_filme(catalogo):\n",
    "    busca = input(\"Digite o título do filme que deseja buscar: \").lower()\n",
    "    encontrados = []\n",
    "    for genero, filmes in catalogo.items():\n",
    "        for filme, ano in filmes:\n",
    "            if busca in filme.lower():\n",
    "                encontrados.append((filme, ano, genero))\n",
    "    if encontrados:\n",
    "        print(\"Filme encontrado:\")\n",
    "        for filme, ano, genero in encontrados:\n",
    "            print(f'{filme} {(30 - len(filme)) * \" \"} {ano} - Gênero: {genero}')\n",
    "    else:\n",
    "        print(\"Nenhum filme encontrado com esse título.\")"
   ]
  },
  {
   "cell_type": "markdown",
   "id": "62548f17",
   "metadata": {},
   "source": [
    "### criando o menu"
   ]
  },
  {
   "cell_type": "code",
   "execution_count": 77,
   "id": "b9149630",
   "metadata": {},
   "outputs": [],
   "source": [
    "def menu():\n",
    "    while True:\n",
    "        print(\"\\n=== Catálogo de Filmes ===\")\n",
    "        print(\"1. Adicionar filme\")\n",
    "        print(\"2. Mostrar catálogo por gênero\")\n",
    "        print(\"3. Mostrar catálogo por filme\")\n",
    "        print(\"4. Remover filme\")\n",
    "        print(\"5. Buscar filme\")\n",
    "        print(\"6. Sair\")\n",
    "        \n",
    "        escolha = input(\"Escolha uma opção (1-6): \")\n",
    "        \n",
    "        if escolha == '1':\n",
    "            adicionar_filme(catalogo)\n",
    "        elif escolha == '2':\n",
    "            mostrar_catalogo(catalogo, \"gênero\")\n",
    "        elif escolha == '3':\n",
    "            mostrar_catalogo(catalogo, \"filme\")\n",
    "        elif escolha == '4':\n",
    "            remover_filme(catalogo)\n",
    "        elif escolha == '5':\n",
    "            buscar_filme(catalogo)\n",
    "        elif escolha == '6':\n",
    "            print(\"Saindo do programa.\")\n",
    "            break\n",
    "        else:\n",
    "            print(\"Opção inválida. Tente novamente.\")"
   ]
  },
  {
   "cell_type": "markdown",
   "id": "e7fc9b4d",
   "metadata": {},
   "source": [
    "### main"
   ]
  },
  {
   "cell_type": "code",
   "execution_count": 80,
   "id": "69858e37",
   "metadata": {},
   "outputs": [
    {
     "name": "stdout",
     "output_type": "stream",
     "text": [
      "\n",
      "=== Catálogo de Filmes ===\n",
      "1. Adicionar filme\n",
      "2. Mostrar catálogo por gênero\n",
      "3. Mostrar catálogo por filme\n",
      "4. Remover filme\n",
      "5. Buscar filme\n",
      "6. Sair\n",
      "======= GÊNEROS =======\n",
      "\n",
      "======= Ação =======\n",
      "\n",
      "Duro de Matar                   1988\n",
      "Mad Max: Estrada da Fúria       2015\n",
      "John Wick                       2014\n",
      "Gladiador                       2000\n",
      "Velozes e Furiosos              2001\n",
      "\n",
      "======= Comédia =======\n",
      "\n",
      "Se Beber, Não Case!             2009\n",
      "O Máskara                       1994\n",
      "As Branquelas                   2004\n",
      "Superbad                        2007\n",
      "Click                           2006\n",
      "\n",
      "======= Drama =======\n",
      "\n",
      "Forrest Gump                    1994\n",
      "O Poderoso Chefão               1972\n",
      "Clube da Luta                   1999\n",
      "A Espera de um Milagre          1999\n",
      "Um Sonho de Liberdade           1994\n",
      "\n",
      "======= Ficção Científica =======\n",
      "\n",
      "Interestelar                    2014\n",
      "Matrix                          1999\n",
      "Blade Runner                    1982\n",
      "De Volta para o Futuro          1985\n",
      "A Origem                        2010\n",
      "\n",
      "======= Terror =======\n",
      "\n",
      "O Iluminado                     1980\n",
      "Invocação do Mal                2013\n",
      "It: A Coisa                     2017\n",
      "Atividade Paranormal            2007\n",
      "Pânico                          1996\n",
      "\n",
      "======= Animação =======\n",
      "\n",
      "Toy Story                       1995\n",
      "Shrek                           2001\n",
      "Procurando Nemo                 2003\n",
      "O Rei Leão                      1994\n",
      "Divertida Mente                 2015\n",
      "\n",
      "======= Romance =======\n",
      "\n",
      "Titanic                         1997\n",
      "Diário de uma Paixão            2004\n",
      "La La Land                      2016\n",
      "Como Eu Era Antes de Você       2016\n",
      "Orgulho e Preconceito           2005\n",
      "\n",
      "=== Catálogo de Filmes ===\n",
      "1. Adicionar filme\n",
      "2. Mostrar catálogo por gênero\n",
      "3. Mostrar catálogo por filme\n",
      "4. Remover filme\n",
      "5. Buscar filme\n",
      "6. Sair\n",
      "Saindo do programa.\n"
     ]
    }
   ],
   "source": [
    "menu()"
   ]
  }
 ],
 "metadata": {
  "kernelspec": {
   "display_name": "Python 3",
   "language": "python",
   "name": "python3"
  },
  "language_info": {
   "codemirror_mode": {
    "name": "ipython",
    "version": 3
   },
   "file_extension": ".py",
   "mimetype": "text/x-python",
   "name": "python",
   "nbconvert_exporter": "python",
   "pygments_lexer": "ipython3",
   "version": "3.12.1"
  }
 },
 "nbformat": 4,
 "nbformat_minor": 5
}
