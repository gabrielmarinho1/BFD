{
 "cells": [
  {
   "cell_type": "markdown",
   "id": "ef47efd5",
   "metadata": {},
   "source": [
    "## Peça ao usuário para inserir uma lista de números. O programa deve remover todos os números duplicados e exibir a nova lista sem repetição"
   ]
  },
  {
   "cell_type": "code",
   "execution_count": 8,
   "id": "aa0f0173",
   "metadata": {},
   "outputs": [],
   "source": [
    "# Solicita ao usuário que digite 5 números para a lista\n",
    "lista = [int(input(f\"Digite o {i+1}º número da lista 1: \")) for i in range(5)]"
   ]
  },
  {
   "cell_type": "code",
   "execution_count": null,
   "id": "f89770d5",
   "metadata": {},
   "outputs": [
    {
     "name": "stdout",
     "output_type": "stream",
     "text": [
      "[1, 2, 3, 4]\n"
     ]
    }
   ],
   "source": [
    "lista_updated = list(set(lista)) # Remove duplicatas convertendo para conjunto e de volta para lista\n",
    "print(lista_updated)"
   ]
  }
 ],
 "metadata": {
  "kernelspec": {
   "display_name": "Python 3",
   "language": "python",
   "name": "python3"
  },
  "language_info": {
   "codemirror_mode": {
    "name": "ipython",
    "version": 3
   },
   "file_extension": ".py",
   "mimetype": "text/x-python",
   "name": "python",
   "nbconvert_exporter": "python",
   "pygments_lexer": "ipython3",
   "version": "3.12.1"
  }
 },
 "nbformat": 4,
 "nbformat_minor": 5
}
