{
 "cells": [
  {
   "cell_type": "markdown",
   "id": "067e40d2",
   "metadata": {},
   "source": [
    "# Dicionários"
   ]
  },
  {
   "cell_type": "markdown",
   "id": "d8ca9912",
   "metadata": {},
   "source": [
    "Dicionários em Python são estruturas de dados que armazenam pares de chave-valor. Eles são mutáveis, o que significa que você pode alterar, adicionar ou remover itens após a criação do dicionário."
   ]
  },
  {
   "cell_type": "code",
   "execution_count": 4,
   "id": "b43f2a55",
   "metadata": {},
   "outputs": [
    {
     "name": "stdout",
     "output_type": "stream",
     "text": [
      "{'nome': 'ana', 'idade': 20, 'curso': 'informatica'}\n",
      "ana\n",
      "20\n"
     ]
    }
   ],
   "source": [
    "pessoa = {\n",
    "    'nome' : 'ana',\n",
    "    'idade' : 20,\n",
    "    'curso': 'informatica'\n",
    "}\n",
    "\n",
    "print(pessoa)\n",
    "print(pessoa['nome'])\n",
    "print(pessoa['idade'])"
   ]
  },
  {
   "cell_type": "markdown",
   "id": "003d1360",
   "metadata": {},
   "source": [
    "é possível alterar o valor atribuído a uma chave"
   ]
  },
  {
   "cell_type": "code",
   "execution_count": 6,
   "id": "d87c285c",
   "metadata": {},
   "outputs": [
    {
     "name": "stdout",
     "output_type": "stream",
     "text": [
      "maria\n"
     ]
    }
   ],
   "source": [
    "pessoa['nome'] = 'maria'\n",
    "print(pessoa['nome'])"
   ]
  },
  {
   "cell_type": "markdown",
   "id": "599065e8",
   "metadata": {},
   "source": [
    "é possível criar dicionários utilizando as chaves {}, a função dict() e a get()"
   ]
  },
  {
   "cell_type": "code",
   "execution_count": 18,
   "id": "b1c7e857",
   "metadata": {},
   "outputs": [
    {
     "name": "stdout",
     "output_type": "stream",
     "text": [
      "Erro: KeyError\n",
      "não foi encontrado\n"
     ]
    }
   ],
   "source": [
    "try: # sem tratamento, gera erro\n",
    "    print(pessoa['cpf'])  # Gera um erro, pois a chave não existe\n",
    "except Exception as e:\n",
    "    print(f'Erro: {type(e).__name__}')\n",
    "\n",
    "print(pessoa.get('cpf', 'não foi encontrado'))  # Retorna mensagem de erro se a chave não existir"
   ]
  },
  {
   "cell_type": "markdown",
   "id": "406d8f72",
   "metadata": {},
   "source": [
    "retornando itens do dicionário"
   ]
  },
  {
   "cell_type": "code",
   "execution_count": 20,
   "id": "20f0403e",
   "metadata": {},
   "outputs": [
    {
     "name": "stdout",
     "output_type": "stream",
     "text": [
      "dict_keys(['nome', 'idade', 'curso'])\n",
      "dict_values(['maria', 20, 'informatica'])\n",
      "dict_items([('nome', 'maria'), ('idade', 20), ('curso', 'informatica')])\n"
     ]
    }
   ],
   "source": [
    "print(pessoa.keys())\n",
    "print(pessoa.values())\n",
    "print(pessoa.items())"
   ]
  },
  {
   "cell_type": "markdown",
   "id": "2032fe81",
   "metadata": {},
   "source": [
    "removendo itens com .pop() e .del()"
   ]
  },
  {
   "cell_type": "code",
   "execution_count": 21,
   "id": "db508a29",
   "metadata": {},
   "outputs": [
    {
     "name": "stdout",
     "output_type": "stream",
     "text": [
      "20\n",
      "{'nome': 'maria', 'curso': 'informatica'}\n",
      "{'nome': 'maria'}\n"
     ]
    }
   ],
   "source": [
    "idade = pessoa.pop('idade')  # remove e retorna o valor da chave\n",
    "print(idade)\n",
    "print(pessoa)\n",
    "\n",
    "del pessoa['curso']  # remove a chave e o valor\n",
    "print(pessoa)"
   ]
  },
  {
   "cell_type": "markdown",
   "id": "f7134507",
   "metadata": {},
   "source": [
    "dicionários aninhados"
   ]
  },
  {
   "cell_type": "code",
   "execution_count": 22,
   "id": "870d89d8",
   "metadata": {},
   "outputs": [
    {
     "name": "stdout",
     "output_type": "stream",
     "text": [
      "{'aluno1': {'nome': 'ana', 'idade': 20, 'curso': 'informatica'}, 'aluno2': {'nome': 'bia', 'idade': 22, 'curso': 'matematica'}, 'aluno3': {'nome': 'carla', 'idade': 19, 'curso': 'fisica'}}\n",
      "nome do aluno 1: ana\n",
      "idade do aluno 2: 22\n",
      "curso do aluno 3: fisica\n"
     ]
    }
   ],
   "source": [
    "turma = {\n",
    "    'aluno1': {'nome': 'ana', 'idade': 20, 'curso': 'informatica'},\n",
    "    'aluno2': {'nome': 'bia', 'idade': 22, 'curso': 'matematica'},\n",
    "    'aluno3': {'nome': 'carla', 'idade': 19, 'curso': 'fisica'}\n",
    "}\n",
    "\n",
    "print(turma)\n",
    "print('nome do aluno 1:', turma['aluno1']['nome'])\n",
    "print('idade do aluno 2:', turma['aluno2']['idade'])\n",
    "print('curso do aluno 3:', turma['aluno3']['curso'])"
   ]
  },
  {
   "cell_type": "markdown",
   "id": "f8fe3ca2",
   "metadata": {},
   "source": [
    "Paulo deseja criar um programa para listar o endereço dos colegas de turma. para isso, utilizará dicionários em python"
   ]
  },
  {
   "cell_type": "code",
   "execution_count": 23,
   "id": "01a3c983",
   "metadata": {},
   "outputs": [
    {
     "name": "stdout",
     "output_type": "stream",
     "text": [
      "O endereço de ana é Rua A, 123\n",
      "O endereço de bia é Avenida B, 456\n",
      "O endereço de carla é Travessa C, 789\n"
     ]
    }
   ],
   "source": [
    "enderecos = {\n",
    "    'ana': 'Rua A, 123',\n",
    "    'bia': 'Avenida B, 456',\n",
    "    'carla': 'Travessa C, 789'\n",
    "}\n",
    "\n",
    "for aluno, endereco in enderecos.items():\n",
    "    print(f'O endereço de {aluno} é {endereco}')"
   ]
  },
  {
   "cell_type": "markdown",
   "id": "abf86797",
   "metadata": {},
   "source": [
    "crie um dicionário com itens de compras de 3 a 5 produtos. ao final, imprima os produtos e as respectivas quantidades."
   ]
  },
  {
   "cell_type": "code",
   "execution_count": 25,
   "id": "b72e0516",
   "metadata": {},
   "outputs": [],
   "source": [
    "produtos = {\n",
    "    'caneta' : 100,\n",
    "    'lápis': 100,\n",
    "    'borracha': 50,\n",
    "    'lapiseira': 20,\n",
    "    'apontador': 15,\n",
    "    'estojo': 30\n",
    "}"
   ]
  },
  {
   "cell_type": "code",
   "execution_count": null,
   "id": "03287907",
   "metadata": {},
   "outputs": [
    {
     "name": "stdout",
     "output_type": "stream",
     "text": [
      "Produto: --------------------caneta\n",
      "Quantidade: --------------------100\n",
      "\n",
      "\n",
      "Produto: --------------------lápis\n",
      "Quantidade: --------------------100\n",
      "\n",
      "\n",
      "Produto: --------------------borracha\n",
      "Quantidade: --------------------50\n",
      "\n",
      "\n",
      "Produto: --------------------lapiseira\n",
      "Quantidade: --------------------20\n",
      "\n",
      "\n",
      "Produto: --------------------apontador\n",
      "Quantidade: --------------------15\n",
      "\n",
      "\n",
      "Produto: --------------------estojo\n",
      "Quantidade: --------------------30\n",
      "\n",
      "\n"
     ]
    }
   ],
   "source": [
    "def mostrar_produtos(lista):\n",
    "    for produto, quantidade in lista.items():\n",
    "        print(f'Produto: {20 * '-'}{produto}')\n",
    "        print(f'Quantidade: {20 * '-'}{quantidade}')\n",
    "        print('\\n')\n",
    "\n",
    "mostrar_produtos(produtos)"
   ]
  },
  {
   "cell_type": "markdown",
   "id": "e22a1c6a",
   "metadata": {},
   "source": [
    "modificando os valores"
   ]
  },
  {
   "cell_type": "code",
   "execution_count": null,
   "id": "1e01fca0",
   "metadata": {},
   "outputs": [],
   "source": [
    "while True:\n",
    "    try:\n",
    "        mostrar_produtos(produtos)\n",
    "\n",
    "        escolha = input('de qual produto deseja alterar a quantidade? ')\n",
    "\n",
    "        nova_quantidade = int(input(f'qual a nova quantidade para {escolha}? '))\n",
    "\n",
    "        produtos[escolha] = nova_quantidade\n",
    "\n",
    "        print('produto atualizado com sucesso')\n",
    "        mostrar_produtos(produtos)\n",
    "        break\n",
    "    except:\n",
    "        print('inválido. tente novamente')"
   ]
  },
  {
   "cell_type": "markdown",
   "id": "79c0011d",
   "metadata": {},
   "source": [
    "adicionando novos pares"
   ]
  },
  {
   "cell_type": "code",
   "execution_count": null,
   "id": "8a9849e5",
   "metadata": {},
   "outputs": [],
   "source": [
    "produtos['papel'] = 100\n",
    "mostrar_produtos(produtos)"
   ]
  },
  {
   "cell_type": "markdown",
   "id": "04d4952a",
   "metadata": {},
   "source": [
    "remover alguns itens"
   ]
  },
  {
   "cell_type": "code",
   "execution_count": null,
   "id": "41cf6969",
   "metadata": {},
   "outputs": [],
   "source": [
    "del produtos['lapiseira']\n",
    "del produtos['caneta']\n",
    "del produtos['estojo']\n",
    "\n",
    "mostrar_produtos(produtos)"
   ]
  },
  {
   "cell_type": "code",
   "execution_count": 27,
   "id": "73ec54ca",
   "metadata": {},
   "outputs": [],
   "source": [
    "estoque = {\n",
    "    'produto1' : {'nome': 'caneta', 'quantidade': 100},\n",
    "    'produto2' : {'nome': 'lápis', 'quantidade': 100},\n",
    "    'produto3' : {'nome': 'borracha', 'quantidade': 50},\n",
    "    'produto4' : {'nome': 'lapiseira', 'quantidade': 20},\n",
    "    'produto5' : {'nome': 'apontador', 'quantidade': 15},\n",
    "    'produto6' : {'nome': 'estojo', 'quantidade': 30}\n",
    "}"
   ]
  },
  {
   "cell_type": "code",
   "execution_count": 31,
   "id": "f4ece57f",
   "metadata": {},
   "outputs": [
    {
     "name": "stdout",
     "output_type": "stream",
     "text": [
      "Produto:-------------------- caneta\n",
      "Quantidade:-------------------- 100\n",
      "\n",
      "\n",
      "Produto:-------------------- lápis\n",
      "Quantidade:-------------------- 100\n",
      "\n",
      "\n",
      "Produto:-------------------- borracha\n",
      "Quantidade:-------------------- 50\n",
      "\n",
      "\n",
      "Produto:-------------------- lapiseira\n",
      "Quantidade:-------------------- 20\n",
      "\n",
      "\n",
      "Produto:-------------------- apontador\n",
      "Quantidade:-------------------- 15\n",
      "\n",
      "\n",
      "Produto:-------------------- estojo\n",
      "Quantidade:-------------------- 30\n",
      "\n",
      "\n"
     ]
    }
   ],
   "source": [
    "for produto, info in estoque.items():\n",
    "    print(f'Produto:{20*'-'} {info[\"nome\"]}')\n",
    "    print(f\"Quantidade:{20*'-'} {info[\"quantidade\"]}\")\n",
    "    print('\\n')"
   ]
  },
  {
   "cell_type": "markdown",
   "id": "b6d8701c",
   "metadata": {},
   "source": [
    "# Exercícios"
   ]
  },
  {
   "cell_type": "markdown",
   "id": "b9d39491",
   "metadata": {},
   "source": [
    "Crie um programa que armazene alguns filmes, de acordo com sua classificação. quando o usuário solicitar um filme, o programa percorre a lista, verifica se existe e mostra a classificação indicativa. utilize dicionários"
   ]
  },
  {
   "cell_type": "code",
   "execution_count": 43,
   "id": "aa318b35",
   "metadata": {},
   "outputs": [],
   "source": [
    "filmes = {\n",
    "    'inception': {'classificacao': 14},\n",
    "    'toy story': {'classificacao': 'Livre'},\n",
    "    'the dark knight': {'classificacao': 16},\n",
    "    'pulp fiction': {'classificacao': 18},\n",
    "    'finding nemo': {'classificacao': 'Livre'},\n",
    "    'the hunger games': {'classificacao': 12}\n",
    "}"
   ]
  },
  {
   "cell_type": "code",
   "execution_count": 47,
   "id": "9edc39ef",
   "metadata": {},
   "outputs": [
    {
     "name": "stdout",
     "output_type": "stream",
     "text": [
      "O filme toy story é livre para todas as idades.\n"
     ]
    }
   ],
   "source": [
    "while True:\n",
    "    try:\n",
    "        nome_filme = input('Qual filme você quer assistir? ')\n",
    "        if nome_filme in filmes.keys():\n",
    "            if filmes[nome_filme]['classificacao'] == 'Livre':\n",
    "                print(f'O filme {nome_filme} é livre para todas as idades.')\n",
    "            else:\n",
    "                print(f'O filme {nome_filme} tem classificação indicativa de {filmes[nome_filme][\"classificacao\"]} anos.')\n",
    "        else:\n",
    "            print('Desculpe, esse filme não está na nossa lista.')\n",
    "        break\n",
    "    except Exception as e:\n",
    "        print(f'Erro: {type(e).__name__}. Tente novamente.')"
   ]
  }
 ],
 "metadata": {
  "kernelspec": {
   "display_name": "Python 3",
   "language": "python",
   "name": "python3"
  },
  "language_info": {
   "codemirror_mode": {
    "name": "ipython",
    "version": 3
   },
   "file_extension": ".py",
   "mimetype": "text/x-python",
   "name": "python",
   "nbconvert_exporter": "python",
   "pygments_lexer": "ipython3",
   "version": "3.12.1"
  }
 },
 "nbformat": 4,
 "nbformat_minor": 5
}
