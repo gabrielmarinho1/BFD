{
 "cells": [
  {
   "cell_type": "code",
   "execution_count": 1,
   "id": "aea3ff58-d736-4e24-83cc-d07dbd9a8b3e",
   "metadata": {},
   "outputs": [],
   "source": [
    "playlist = [teste1, teste2, teste3]"
   ]
  },
  {
   "cell_type": "code",
   "execution_count": 2,
   "id": "03a94242-37c4-4f8b-923e-e930f591b38a",
   "metadata": {},
   "outputs": [],
   "source": [
    "def adicionar_musica(lista):\n",
    "    musica = input(\"que música gostaria de adicionar? \")\n",
    "\n",
    "    if musica in lista:\n",
    "        print(f\" a música {musica} já está na playlist.\")\n",
    "    else:\n",
    "        lista.append(musica)\n",
    "        print(f\" a música {musica} foi adicionada à playlist.\")"
   ]
  },
  {
   "cell_type": "code",
   "execution_count": 4,
   "id": "03f9f772-7f16-472d-83f4-234b2edfc789",
   "metadata": {},
   "outputs": [],
   "source": [
    "def inserir_musica(lista):\n",
    "    for i, j in lista.enumerate():\n",
    "        print(f\"{i+1} - {j}\")"
   ]
  },
  {
   "cell_type": "raw",
   "id": "a60f4618-d5ea-45ac-b96a-84dd13f349c9",
   "metadata": {},
   "source": [
    "inserir_musica(playlist)"
   ]
  }
 ],
 "metadata": {
  "kernelspec": {
   "display_name": "Python 3 (ipykernel)",
   "language": "python",
   "name": "python3"
  },
  "language_info": {
   "codemirror_mode": {
    "name": "ipython",
    "version": 3
   },
   "file_extension": ".py",
   "mimetype": "text/x-python",
   "name": "python",
   "nbconvert_exporter": "python",
   "pygments_lexer": "ipython3",
   "version": "3.12.1"
  }
 },
 "nbformat": 4,
 "nbformat_minor": 5
}
