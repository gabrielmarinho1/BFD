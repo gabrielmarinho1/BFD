{
 "cells": [
  {
   "cell_type": "markdown",
   "id": "2e23619f",
   "metadata": {},
   "source": [
    "## Playlist do YouTube"
   ]
  },
  {
   "cell_type": "code",
   "execution_count": null,
   "id": "aea3ff58-d736-4e24-83cc-d07dbd9a8b3e",
   "metadata": {},
   "outputs": [],
   "source": [
    "playlist = []"
   ]
  },
  {
   "cell_type": "markdown",
   "id": "c89430eb",
   "metadata": {},
   "source": [
    "### Funções"
   ]
  },
  {
   "cell_type": "code",
   "execution_count": 3,
   "id": "03a94242-37c4-4f8b-923e-e930f591b38a",
   "metadata": {},
   "outputs": [],
   "source": [
    "def adicionar_musica(lista):\n",
    "    musica = input(\"que música gostaria de adicionar? \")\n",
    "\n",
    "    if musica in lista:\n",
    "        print(f\" a música {musica} já está na playlist.\")\n",
    "    else:\n",
    "        lista.append(musica)\n",
    "        print(f\" a música {musica} foi adicionada à playlist.\")"
   ]
  },
  {
   "cell_type": "code",
   "execution_count": 4,
   "id": "04964ced-13b7-4e96-bef2-8cf2669dab65",
   "metadata": {},
   "outputs": [],
   "source": [
    "def visualizar_playlist(lista):\n",
    "    print(\"=== PLAYLIST COMPLETA ===\\n\")\n",
    "    for i, j in enumerate(lista):\n",
    "        print(f\"{i+1} - {j}\")"
   ]
  },
  {
   "cell_type": "code",
   "execution_count": 5,
   "id": "03f9f772-7f16-472d-83f4-234b2edfc789",
   "metadata": {},
   "outputs": [],
   "source": [
    "def inserir_musica(lista):\n",
    "    visualizar_playlist(lista)\n",
    "\n",
    "    musica = input(\"qual a música que será inserida? \")\n",
    "\n",
    "    pos = int(input(\"escolha a nova posição da música\"))\n",
    "\n",
    "    lista.insert(pos-1, musica)\n",
    "\n",
    "    print(f\"a música {musica} foi inserida na posição {pos}\")"
   ]
  },
  {
   "cell_type": "code",
   "execution_count": 6,
   "id": "3ef875c1-055f-4d51-96ae-1df22bd2b299",
   "metadata": {},
   "outputs": [],
   "source": [
    "def exibir_quantidade(lista):\n",
    "    print(f\"essa playlist tem {len(lista)} músicas.\")"
   ]
  },
  {
   "cell_type": "code",
   "execution_count": 7,
   "id": "a6844aad",
   "metadata": {},
   "outputs": [],
   "source": [
    "def procurar_musica(lista):\n",
    "    \n",
    "    musica = input(\"qual música você quer procurar? \")\n",
    "\n",
    "    if musica in lista:\n",
    "        pos = lista.index(musica)\n",
    "        print(f\"a música {musica} está na posição {pos+1}\")\n",
    "    else:\n",
    "        print(f\"a música {musica} não foi encontrada na playlist.\")"
   ]
  },
  {
   "cell_type": "markdown",
   "id": "44a9832c",
   "metadata": {},
   "source": [
    "### Menu"
   ]
  },
  {
   "cell_type": "code",
   "execution_count": null,
   "id": "af8649d4",
   "metadata": {},
   "outputs": [],
   "source": [
    "while True:\n",
    "    print(\"\\n=== MENU DE OPÇÕES ===\\n\")\n",
    "    print(\"1 - Adicionar música\")\n",
    "    print(\"2 - Visualizar playlist\")\n",
    "    print(\"3 - Inserir música em uma posição específica\")\n",
    "    print(\"4 - Exibir quantidade de músicas\")\n",
    "    print(\"5 - Procurar música\")\n",
    "    print(\"6 - Sair\")\n",
    "\n",
    "    escolha = input(\"Escolha uma opção: \")\n",
    "\n",
    "    if escolha == '1':\n",
    "        adicionar_musica(playlist)\n",
    "    elif escolha == '2':\n",
    "        visualizar_playlist(playlist)\n",
    "    elif escolha == '3':\n",
    "        inserir_musica(playlist)\n",
    "    elif escolha == '4':\n",
    "        exibir_quantidade(playlist)\n",
    "    elif escolha == '5':\n",
    "        procurar_musica(playlist)\n",
    "    elif escolha == '6':\n",
    "        print(\"Saindo do programa...\")\n",
    "        break\n",
    "    else:\n",
    "        print(\"Opção inválida. Tente novamente.\")"
   ]
  },
  {
   "cell_type": "markdown",
   "id": "ca5a534e",
   "metadata": {},
   "source": [
    "## .copy()"
   ]
  },
  {
   "cell_type": "code",
   "execution_count": 1,
   "id": "da763890",
   "metadata": {},
   "outputs": [
    {
     "name": "stdout",
     "output_type": "stream",
     "text": [
      "lista 1: ['Brasil', 'Argentina', 'Chile', 'Colômbia', 'Peru']\n",
      "lista 2: ['Brasil', 'Argentina', 'Chile', 'Colômbia', 'Peru']\n",
      "adicionando Venezuela na lista 2: \n",
      "lista 2: ['Brasil', 'Argentina', 'Chile', 'Colômbia', 'Peru', 'Venezuela']\n"
     ]
    }
   ],
   "source": [
    "lugares = ['Brasil', 'Argentina', 'Chile', 'Colômbia', 'Peru']\n",
    "\n",
    "lugares2 = lugares.copy() # cria uma cópia da lista lugares\n",
    "\n",
    "print(f'lista 1: {lugares}')\n",
    "print(f'lista 2: {lugares2}')\n",
    "\n",
    "lugares2.append('Venezuela')\n",
    "\n",
    "print(f'adicionando Venezuela na lista 2: \\nlista 2: {lugares2}')"
   ]
  },
  {
   "cell_type": "markdown",
   "id": "006bb7d8",
   "metadata": {},
   "source": [
    "## qual o resultado?"
   ]
  },
  {
   "cell_type": "code",
   "execution_count": null,
   "id": "faead39c",
   "metadata": {},
   "outputs": [
    {
     "name": "stdout",
     "output_type": "stream",
     "text": [
      "[0, 1, 4, 9, 16, 25]\n"
     ]
    }
   ],
   "source": [
    "x = [x**2 for x in range(6)]  #cria uma lista com os quadrados dos números de 0 a 5\n",
    "print(x)"
   ]
  },
  {
   "cell_type": "code",
   "execution_count": null,
   "id": "ffa6bf02",
   "metadata": {},
   "outputs": [
    {
     "name": "stdout",
     "output_type": "stream",
     "text": [
      "[0, 2, 4, 6, 8]\n"
     ]
    }
   ],
   "source": [
    "y = [x for x in range(10) if x % 2 == 0]  #cria uma lista com os números pares de 0 a 9\n",
    "print(y)"
   ]
  },
  {
   "cell_type": "markdown",
   "id": "1dfe5231",
   "metadata": {},
   "source": [
    "## resolva"
   ]
  },
  {
   "cell_type": "code",
   "execution_count": 4,
   "id": "8a04b404",
   "metadata": {},
   "outputs": [],
   "source": [
    "def exibir_lista(lista):\n",
    "    print(\"Números na lista:\")\n",
    "    for numero in lista:\n",
    "        print(numero)"
   ]
  },
  {
   "cell_type": "code",
   "execution_count": 3,
   "id": "341de357",
   "metadata": {},
   "outputs": [],
   "source": [
    "lista = []\n",
    "\n",
    "for i in range(5):\n",
    "    num = int(input(\"Digite um número: \"))\n",
    "    lista.append(num)"
   ]
  },
  {
   "cell_type": "code",
   "execution_count": 5,
   "id": "1fe76e14",
   "metadata": {},
   "outputs": [
    {
     "name": "stdout",
     "output_type": "stream",
     "text": [
      "Números na lista:\n",
      "1\n",
      "2\n",
      "3\n",
      "4\n",
      "5\n",
      "o maior número da lista é 5\n",
      "o menor número da lista é 1\n",
      "o tamanho da lista é 5\n"
     ]
    }
   ],
   "source": [
    "exibir_lista(lista)\n",
    "print(f\"o maior número da lista é {max(lista)}\")\n",
    "print(f\"o menor número da lista é {min(lista)}\")\n",
    "print(f\"o tamanho da lista é {len(lista)}\")"
   ]
  }
 ],
 "metadata": {
  "kernelspec": {
   "display_name": "Python 3",
   "language": "python",
   "name": "python3"
  },
  "language_info": {
   "codemirror_mode": {
    "name": "ipython",
    "version": 3
   },
   "file_extension": ".py",
   "mimetype": "text/x-python",
   "name": "python",
   "nbconvert_exporter": "python",
   "pygments_lexer": "ipython3",
   "version": "3.12.1"
  }
 },
 "nbformat": 4,
 "nbformat_minor": 5
}
